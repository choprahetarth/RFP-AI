{
  "nbformat": 4,
  "nbformat_minor": 0,
  "metadata": {
    "colab": {
      "name": "RFP_AI.ipynb",
      "provenance": [],
      "collapsed_sections": [],
      "mount_file_id": "1KubqRM9uRzzKjlpYErQj3eMVfmqop2_5",
      "authorship_tag": "ABX9TyODXngpdjWeWg6qMcGHBBHC",
      "include_colab_link": true
    },
    "kernelspec": {
      "name": "python3",
      "display_name": "Python 3"
    },
    "language_info": {
      "name": "python"
    }
  },
  "cells": [
    {
      "cell_type": "markdown",
      "metadata": {
        "id": "view-in-github",
        "colab_type": "text"
      },
      "source": [
        "<a href=\"https://colab.research.google.com/github/choprahetarth/RFP-AI/blob/main/RFP_AI.ipynb\" target=\"_parent\"><img src=\"https://colab.research.google.com/assets/colab-badge.svg\" alt=\"Open In Colab\"/></a>"
      ]
    },
    {
      "cell_type": "code",
      "metadata": {
        "colab": {
          "base_uri": "https://localhost:8080/"
        },
        "id": "PKq4R11-kPKF",
        "outputId": "f777221f-9b6b-4b16-f215-75ea6874ba14"
      },
      "source": [
        "!pip install pdfminer\n",
        "!pip install PyPDF2\n",
        "!pip install pdfPlumber"
      ],
      "execution_count": null,
      "outputs": [
        {
          "output_type": "stream",
          "text": [
            "Requirement already satisfied: pdfminer in /usr/local/lib/python3.7/dist-packages (20191125)\n",
            "Requirement already satisfied: pycryptodome in /usr/local/lib/python3.7/dist-packages (from pdfminer) (3.10.1)\n",
            "Requirement already satisfied: PyPDF2 in /usr/local/lib/python3.7/dist-packages (1.26.0)\n",
            "Requirement already satisfied: pdfPlumber in /usr/local/lib/python3.7/dist-packages (0.5.28)\n",
            "Requirement already satisfied: Pillow>=7.0.0 in /usr/local/lib/python3.7/dist-packages (from pdfPlumber) (7.1.2)\n",
            "Requirement already satisfied: pdfminer.six==20200517 in /usr/local/lib/python3.7/dist-packages (from pdfPlumber) (20200517)\n",
            "Requirement already satisfied: Wand in /usr/local/lib/python3.7/dist-packages (from pdfPlumber) (0.6.6)\n",
            "Requirement already satisfied: chardet; python_version > \"3.0\" in /usr/local/lib/python3.7/dist-packages (from pdfminer.six==20200517->pdfPlumber) (3.0.4)\n",
            "Requirement already satisfied: pycryptodome in /usr/local/lib/python3.7/dist-packages (from pdfminer.six==20200517->pdfPlumber) (3.10.1)\n",
            "Requirement already satisfied: sortedcontainers in /usr/local/lib/python3.7/dist-packages (from pdfminer.six==20200517->pdfPlumber) (2.4.0)\n"
          ],
          "name": "stdout"
        }
      ]
    },
    {
      "cell_type": "code",
      "metadata": {
        "id": "cCWsj5ncc-PQ"
      },
      "source": [
        "''' implementing the tutorial at https://towardsdatascience.com/creating-a-custom-classifier-for-text-cleaning-a2a1fc818935'''\n",
        "from collections import Counter\n",
        "from IPython.display import clear_output\n",
        "from pdfminer.converter import TextConverter\n",
        "from pdfminer.layout import LAParams\n",
        "from pdfminer.pdfinterp import PDFResourceManager\n",
        "from pdfminer.pdfinterp import PDFPageInterpreter\n",
        "from pdfminer.pdfpage import PDFPage\n",
        "from textblob import TextBlob\n",
        "import io\n",
        "import math\n",
        "import numpy as np\n",
        "import pickle\n",
        "import pandas as pd\n",
        "import string\n",
        "import re\n",
        "from PyPDF2 import PdfFileReader, PdfFileWriter\n",
        "import os\n",
        "import os"
      ],
      "execution_count": null,
      "outputs": []
    },
    {
      "cell_type": "code",
      "metadata": {
        "colab": {
          "base_uri": "https://localhost:8080/"
        },
        "id": "Y-7-_tGfPiYx",
        "outputId": "975f6be4-c273-4b6c-db6b-da240729d2ec"
      },
      "source": [
        "#INPUT AREA #\n",
        "print(\"Welcome to AutoCBC Generator\")\n",
        "project_name = input(\"please let me know the name of the project - >\")\n",
        "start_of_the_section = input(\"Please Let Me Know the start of your section (do a -1 from the actual start) - >\")\n",
        "end_of_section  = input(\"Please Let Me Know the end of your section  - >\")\n",
        "number_of_section = input(\"Please tell the section number - >\") "
      ],
      "execution_count": null,
      "outputs": [
        {
          "output_type": "stream",
          "text": [
            "Welcome to AutoCBC Generator\n",
            "please let me know the name of the project - >CMRL PHASE II\n",
            "Please Let Me Know the start of your section (do a -1 from the actual start) - >300\n",
            "Please Let Me Know the end of your section  - >318\n",
            "Please tell the section number - >13\n"
          ],
          "name": "stdout"
        }
      ]
    },
    {
      "cell_type": "code",
      "metadata": {
        "colab": {
          "base_uri": "https://localhost:8080/"
        },
        "id": "GD7EaRR1IArP",
        "outputId": "54e0a05d-403d-4e43-dbe9-cc5c638b40c4"
      },
      "source": [
        "path = '/content/drive/MyDrive/Colab Notebooks/RFPAI/Part_2_ERTS.pdf'\n",
        "pdf = PdfFileReader(path, \"rb\")\n",
        "\n",
        "pdf_writer = PdfFileWriter()\n",
        "\n",
        "#for page in range(283, 299):\n",
        "#    pdf_writer.addPage(pdf.getPage(page))\n",
        "\n",
        "for page in range(int(start_of_the_section), int(end_of_section)):\n",
        "    pdf_writer.addPage(pdf.getPage(page))\n",
        "\n",
        "output_fname = \"/content/drive/MyDrive/Colab Notebooks/RFPAI/Output.pdf\"\n",
        "\n",
        "with open(output_fname, 'wb') as out:\n",
        "    pdf_writer.write(out)\n",
        "\n",
        "print (\"PDF file has been split\")"
      ],
      "execution_count": null,
      "outputs": [
        {
          "output_type": "stream",
          "text": [
            "PdfReadWarning: Xref table not zero-indexed. ID numbers for objects will be corrected. [pdf.py:1736]\n"
          ],
          "name": "stderr"
        },
        {
          "output_type": "stream",
          "text": [
            "PDF file has been split\n"
          ],
          "name": "stdout"
        }
      ]
    },
    {
      "cell_type": "code",
      "metadata": {
        "id": "11c-Bs5ikesx"
      },
      "source": [
        "def read_pdf(path):\n",
        "    rsrcmgr = PDFResourceManager()\n",
        "    retstr = io.StringIO()\n",
        "    codec = 'utf-8'\n",
        "    #laparams = LAParams()\n",
        "    #device = TextConverter(rsrcmgr, retstr, laparams=laparams)\n",
        "    device = TextConverter(rsrcmgr, retstr)\n",
        "    fp = open(path, 'rb')\n",
        "    interpreter = PDFPageInterpreter(rsrcmgr, device)\n",
        "    password = \"\"\n",
        "    maxpages = 0\n",
        "    caching = True\n",
        "    pagenos=set()\n",
        "    for page in PDFPage.get_pages(fp, pagenos, maxpages=maxpages, password=password, caching=caching, check_extractable=True): \n",
        "        interpreter.process_page(page)\n",
        "    text = retstr.getvalue()\n",
        "    text = \" \".join(text.replace(u\"\\xa0\", \" \").strip().split())  \n",
        "    fp.close()\n",
        "    device.close()\n",
        "    retstr.close()\n",
        "    return text"
      ],
      "execution_count": null,
      "outputs": []
    },
    {
      "cell_type": "code",
      "metadata": {
        "id": "2GJk-7NJ2edl"
      },
      "source": [
        "os.chdir('/content/drive/MyDrive/Colab Notebooks/RFPAI')"
      ],
      "execution_count": null,
      "outputs": []
    },
    {
      "cell_type": "code",
      "metadata": {
        "id": "vlRJ3F_r2vqK"
      },
      "source": [
        "a = read_pdf('Output.pdf')"
      ],
      "execution_count": null,
      "outputs": []
    },
    {
      "cell_type": "code",
      "metadata": {
        "id": "4dT3YyD02-PO"
      },
      "source": [
        "pickle_out = open(\"serializedPDF.pickle\",\"wb\")\n",
        "pickle.dump(a, pickle_out)\n",
        "pickle_out.close()"
      ],
      "execution_count": null,
      "outputs": []
    },
    {
      "cell_type": "code",
      "metadata": {
        "id": "bqOWscJV8fPc"
      },
      "source": [
        "pickle_in = open(\"serializedPDF.pickle\",\"rb\")\n",
        "a = pickle.load(pickle_in)"
      ],
      "execution_count": null,
      "outputs": []
    },
    {
      "cell_type": "code",
      "metadata": {
        "colab": {
          "base_uri": "https://localhost:8080/",
          "height": 124
        },
        "id": "CRMHZunX9e4e",
        "outputId": "6c98cb15-4f0c-497e-e6fb-d9f47d314353"
      },
      "source": [
        "a"
      ],
      "execution_count": null,
      "outputs": [
        {
          "output_type": "execute_result",
          "data": {
            "application/vnd.google.colaboratory.intrinsic+json": {
              "type": "string"
            },
            "text/plain": [
              "'Chennai Metro Rail Project Phase – II Bid No. ARE03 Part 2 – Section VI ERTS – Communications CMRL / Rev. B 13-1 December 2020 13. COMMUNICATIONS 13.1 CITED REFERENCES EIA-SE-101 Amplifiers for Sound Equipment EIA-SE-103 Speakers for Sound Equipment EIA-SE-105 Microphones for Sound Equipment IEC 60571 Hardware System IEC 61375-1 Train Communications Network – Part 1: Technical Specification MIL-STD-1472 Human Engineering Design Criteria RGS GM/RT/2472 Data Recorders on Trains – Design Requirements BS EN 60529 Specification for Degrees of Protection Provided by Enclosures Note: Any other equivalent standards to the above standards may be followed subject to approval of CMRL. All the standards used shall be latest issued revisions. 13.2 GENERAL 13.2.1 The Contractor shall conform to applicable international standards and best practices for communications requirements and shall be responsible for design and interface coordination, installing and testing the entire train communications system. 13.2.2 The system components shall be modular and shall be removable for servicing, without affecting other functions or devices. 13.2.3 The communications system shall include the following major components: a) Not used b) Communications Control Heads (CCH) system c) Public Information System (PIS), d) Public address system with automatic announcements e) Exterior and interior message displays f) Private operator’s desk-to-desk Intercom (during special situations) g) Passenger Emergency Intercom from OCC and TCMS h) Not used i) Not used j) Interior and Exterior Video Surveillance and CCTV A description of the major components listed above is as below. Chennai Metro Rail Project Phase – II Bid No. ARE03 Part 2 – Section VI ERTS – Communications CMRL / Rev. B 13-2 December 2020 13.2.4 The Contractor shall verify through testing that all required inter-car communications are totally functional through the car to car jumper cables of a 3-car train. Provisions shall be made for the conversion to a future 6-car train. 13.2.5 All electrical materials, components, and installation methods used in the fabrication of the communication system, including wire, cable, printed circuit boards and circuit protective devices, shall conform to the requirements of ERTS Section 19. 13.2.6 The Contractor shall submit data sheets and/or specification sheets for all communications system components. [CDRL 13-1] 13.2.7 Structured programming techniques, as specified in ERTS Section 19 and ERTS section 20 shall be used for all software driven communications subsystems. 13.2.8 All communications equipment shall be operable when train auxiliary supply is ON and shall also be functional with battery supply alone. 13.2.9 Sufficient extra cable length shall be provided to allow at least three re-terminations at each end of all the cables inside Jumper cable conduits, at terminal block connections, under frame connections, roof connections, saloon interior connections. 13.2.10 Each main communication system shall be operated and inhibited independently in case of failure. This inhibition shall be possible from Train TCMS, OCC, BCC and DCCs. 13.2.11 The components of communication system shall be installed such that the mounting hardware is readily accessible for ease of service and maintenance. Exposed hardware is not permitted. 13.2.12 Provision shall be provided in TCMS for Single point upload of all software related to Communications system of train. There shall also be a provision to remote download of entire communication system logs from the train according to ERTS Section 14.11 and ERTS section 14.13. 13.2.13 Single point failure in the communication system shall not impact the complete train communication system. Hence sufficient redundancies shall be incorporated. 13.2.14 All the communication system logs and health status of equipment shall be sent to OCC & DCC in a real time. This information shall be accessible to authorized maintainers. This function shall be provided as per the ERTS section 14.11 and ERTS Section 14.13. 13.2.15 Software of complete communication system described in ERTS section 13 shall be uploaded from a single point location inside the train. 13.2.16 The Contractor shall provide suitable space, mounting provisions, wiring and separate circuit protection for the communication equipment including power supplies. The power supplies shall be fed from the low voltage power supply and emergency storage Chennai Metro Rail Project Phase – II Bid No. ARE03 Part 2 – Section VI ERTS – Communications CMRL / Rev. B 13-3 December 2020 battery circuit. Contractor shall use best practices for equipment wiring and network wiring as per the relevant international standards. 13.2.17 Contractor shall refer to ERTS section 3, ERTS Section 5 and Appendix C for fitment of communication and interface equipment within operator’s desk and in train. 13.2.18 The Communications system shall be capable of operation in UTO sleep modes as defined in ERTS Section 14.4.9. 13.2.19 The Communications System functions has to meet the all the criteria defined in ERTS section 14 - TCMS. 13.2.20 All electrical and electronic components shall comply with the EMC and EMI requirements of EN 50121 (all parts), IEEE 16, EN 5501, EN 1 and IEC 61000-4 standards or other equivalent international standards. The requirements of EMC EMI requirements referred in ERTS Section 10.19 & ERTS section 2.18 of the rolling stock shall be met. 13.2.21 Fire properties of the materials used shall comply with EN 45545 part 1 to part 7 latest editions (Category 4-A, Hazard level HL3) as a minimum or better international standard applicable for similar Metro applications. Requirements of ERTS section 2.26 shall be met. 13.2.22 Material requirements of ERTS section 9 shall be compliant with the requirements of ERTS Section 19. 13.3 POWER SUPPLY 13.3.1 All communication equipment shall be powered from the low voltage power supply and storage battery with voltage ranges as defined in ERTS Section 9. 13.3.2 The communications system shall be configured with a separate circuit breaker for each major component. Failure of one component shall not affect the functionality of other major components. 13.4 COMMUNICATIONS CONTROL HEAD 13.4.1 A Communications Control Head (CCH) shall be installed in the Driver Desk at both ends of the train. Communications Control Head is a touch screen display which shall be operable by authorized Operation/Maintenance personnel with a unique login details. Contractor may propose any emergency control buttons on operator’s desk apart from control from CCH console. 13.4.2 The CCH shall provide the Operator with a control interface to the entire communications system, with the exception of the DMS and event recorder. Chennai Metro Rail Project Phase – II Bid No. ARE03 Part 2 – Section VI ERTS – Communications CMRL / Rev. B 13-4 December 2020 13.4.3 The CCH shall interface with all audio and visual communication equipment and shall provide the following functions: a) Control and reset any passenger emergency intercom of the train. b) Select and control operator’s desk-to-desk communications c) Control PIS announcements d) Play independent and automatic route related audio & visual announcements e) Display CCTV footages of train along with their selection controls f) Act as DDU in case of failure of DDU. 13.4.4 The status indications, operation, control and isolation of the features mentioned in ERTS 13.4.3 shall be provided from CCH console inside the operator desk. The console shall contain all the communication equipment status indications. 13.4.5 The communication system shall remain operational even if one of the two CCHs in a train has failed. 13.4.6 The Contractor shall submit communication system functional descriptions, display layout of functions in CCH console, control scheme and block diagrams of the CCH and associated communications components [CDRL 13-2]. 13.4.7 A Train operator microphone, complying with EIA-SE-103, shall be provided on each driver desk. This microphone shall be used for non-automatic PA announcements, and for communication through operator’s desk-to-desk and passenger emergency intercoms. During UTO GoA4 operations, this microphone shall be sealed inside the operator’s desk panel in a safe manner without damage during operator’s desk panels open or closing function. Suitable design of operator’s Mic shall be suggested by contractor. 13.4.8 Automatic Touch screen calibration shall be incorporated within the in CCH display during train restart activity. The touch screen sensitivity shall be suitable for industrial applications and Rolling stock applications. Train operator or maintainers shall not feel discomfort in operating the touch screen. 13.4.9 Driver Desk Speakers 13.4.9.1 A speaker system shall be installed on each driver desk to ensure train radio and intercom systems communications between the driver and OCC, driver and passengers, and other radio functions required. 13.4.9.2 Speaker output shall be adjustable to the minimum required audible output level specified in ERTS clause 13.7.2.9. 13.4.10 Automatic Touch screen calibration shall be incorporated within the CCH display during train restart activity. The touch screen sensitivity shall be suitable for industrial Chennai Metro Rail Project Phase – II Bid No. ARE03 Part 2 – Section VI ERTS – Communications CMRL / Rev. B 13-5 December 2020 applications and Rolling stock applications. Train operator or maintainers shall not feel discomfort in operating the touch screen. 13.5 TETRA RADIO SYSTEM The TETRA radio system shall be supplied by the Tele-Communications Contractor shall ensure communications between train operator and control room. The TETRA radio is for operations, maintenance and voice communications and data applications in connection with data of the TCMS systems. 13.5.1 The TETRA radio system shall consist of exterior antennae, console-mountable, standard type radios and radio power supply units together with all installation materials and cables required for installation. The RS Contractor shall install and connect these antennae on the train roof, one radio in the console of each cab desk and one radio power supply in each cab desk. 13.5.2 Detailed dimensional, weight and power requirement information shall be presented for CMRL approval at the time of Preliminary Design Review. 13.5.3 The RS Contractor shall provide suitably space, mounting provisions, wiring and separate circuit protection for the radio power supplies. The radio power supplies shall be fed from the low voltage power supply and emergency storage battery circuit. 13.5.4 The RS Contractor shall provide and install cable from the radios to the corresponding antenna, using removable connectors at each end of the cable. The cable impedance shall match the output impedance of the radio. The contractor shall submit the above said (i.e., 13.5.1 to 13.5.4) for CMRL approval. 13.5.5 The antenna-to-radio connection shall be kept as short as possible and shall have no angle connections unless otherwise approved by CMRL. 13.5.6 The Contractor shall use gaskets to make the installation of the antennas weatherproof and resistant to damage from the carwash service areas. Sealant shall not be permitted for fixing of roof/exterior mounted equipment 13.5.7 The Contractor shall submit for approval, during design review, detailed information on radio equipment interfaces, mounting, and wiring. [CDRL 13-11] 13.6 NOT USED 13.7 PUBLIC INFORMATION SYSTEM The Public Information System (PIS) shall consist of both visual and audible announcements, train information, advertisements that comply with “The Rights of Persons with Disabilities Act, 2016” both inside and exterior of the vehicle. The PIS shall interface with the TETRA radio system and Signaling system to allow full-duplex Chennai Metro Rail Project Phase – II Bid No. ARE03 Part 2 – Section VI ERTS – Communications CMRL / Rev. B 13-6 December 2020 two way communications between passengers and the OCC, BCC & DCCs and vice versa. 13.7.1 Passenger Information Displays 13.7.1.1 The passenger information displays shall consist of exterior information displays and interior information displays. Control of these displays shall be integrated into the overall communications system. 13.7.1.2 In general, these displays shall include, but shall not be limited to information on the current running route, route destination station, next station stop, skip station, door opening side, connecting station information as well as further secondary messages to be determined by CMRL during design stage. 13.7.1.3 In case of any further extensions/modifications of stations of the corridors and in case of any change in operation strategy of the train, there shall be a requirement of additions/deletions/modifications of these route related messages in future. Also, there shall be requirement to modify the special/emergency announcements in train. Hence a provision shall be provided to CMRL to increase/decrease/modify/update these messages independently using Contractor-supplied Software tools. These tools shall be provided during the first train taking over by CMRL. 13.7.1.4 The information displays shall allow maximum visibility to all seated and standing passengers. 13.7.1.5 Control of all displays in a train shall be possible from the TCMS, OCC, BCC and DCCs. 13.7.1.6 The displays shall be all-electric, alphanumeric, and completely self-contained. The display shall be capable of displaying both in Tamil and English languages. 13.7.1.7 The character font and size of the messages shall be designed for proper readability for all passengers inside the train. 13.7.1.8 All passenger information displays shall comply with “The Rights of Persons with Disabilities Act, 2016”. 13.7.1.9 The displays shall be readable in direct sunlight or complete darkness and all degrees of light in-between. 13.7.1.10 All the displays shall be LCD displays with LED back lit or any other latest better technology displays. The viewing angle for the displays shall be minimum 178 Deg. 13.7.1.11 Not Used. Chennai Metro Rail Project Phase – II Bid No. ARE03 Part 2 – Section VI ERTS – Communications CMRL / Rev. B 13-7 December 2020 13.7.1.12 The displays shall not require any external mask between pixels and shall not require any framing or support structure between characters that would give a discontinuous appearance. 13.7.1.13 The Contractor shall submit for approval information on the design, specifications and location of the interior and exterior displays in design stage [CDRL 13-3]. 13.7.1.14 Interior Displays (Electronic Route Maps) 13.7.1.14.1 Eight (8) no’s of LCD with LED backlit displays or any latest better technology displays used as electronic route maps, at each saloon door, shall be provided in each coach. Refer to ERTS Section 2.2.15. The diagonal length of the display shall be at-least 37 inch-diagonal stretch displays. 13.7.1.14.2 There shall be no glare from the mounting frame or from the interior of the vehicle that could impair the display’s readability. 13.7.1.14.3 It shall be possible to read route related messages and all details of route map from at least one of the displays from any location within the passenger compartment. The font and size of the details shall be suitably provided. 13.7.1.14.4 The Electronic route map shall show at-least the following information: a) Destination station b) Current station c) Next station d) Distance for reaching the next station e) Expected time of Arrival for Destination station f) Real time clock and date g) Door side opening/closure status h) Door opening information i) Skip station information, etc. j) Current route k) Any ambient information like speed, temperature, humidity etc. l) Interlinking metro stations with places of importance to be highlighted. m) Any special announcements from OCC/Train operator n) Scrolling of route related announcements 13.7.1.14.5 Provision shall be available for OCC, BCC & DCC to broadcast messages on these displays during rescue operation, during UTO operation etc. 13.7.1.14.6 Route maps of Different corridors shall be shown in different colors. Interchanging stations and important places (Malls, hospitals, Bus station, Rail station, Airport, etc.) in the route shall be highlighted while showing the routes. The addition and deletion of important places at any time shall be possible. Contractor Chennai Metro Rail Project Phase – II Bid No. ARE03 Part 2 – Section VI ERTS – Communications CMRL / Rev. B 13-8 December 2020 shall provide necessary tools and software to CMRL for updating the information on route maps independently. 13.7.1.14.7 Route information on the display shall align to the train running direction on both left and right sides of the saloon. Station names shall be displayed in English and Tamil languages. 13.7.1.14.8 Not Used 13.7.1.15 Exterior Displays 13.7.1.15.1 LCD with LED backlit displays or any latest better technology displays shall be provided at both ends of the train above the windshield to indicate the destination station and route information. The message shall be displayed in both English and Tamil simultaneously. 13.7.1.15.2 The brightness of the display shall be adjusted automatically according to the brightness of the sunlight so that passengers shall be able to read information on Exterior display at all times. 13.7.1.15.3 In addition to the destination station name, the Train ID details shall be displayed on it. Train ID shall be displayed duly getting location and direction information derived from signaling system and also an independent Rolling stock vehicle locator system 13.7.1.16 Displays for advertisement Purpose 13.7.1.16.1 6 no’s of LCD with LED backlit displays or any latest better technology displays of size not less than 13 inch x 19 inch shall be provided inside each coach at an appropriate location. The display location and specification shall be submitted for CMRL approval. 13.7.1.16.2 These displays shall support for broadcasting advertisements in video and picture formats, CMRL promotional videos and route related information. 13.7.1.16.3 By default, these display shall show the route related information similar to Electronic route maps. Provision shall be made available for CMRL to switch over these displays into commercial mode for broadcasting advertisements from single point in the train. 13.7.1.16.4 Contractor shall provide necessary storage devices for enabling CMRL to upload the video & Picture files from a single point in train to broadcast on all the train’s displays. 13.7.1.16.5 Necessary interfaces shall be provided for broadcasting advertisements in a logical manner such as broadcasting multiple videos one after other or broadcasting a single video for a specified period, broadcasting advertisements at a specific location or station, etc. Chennai Metro Rail Project Phase – II Bid No. ARE03 Part 2 – Section VI ERTS – Communications CMRL / Rev. B 13-9 December 2020 13.7.1.16.6 During the Emergency/ rescue operation these displays must show the necessary instructions for the passenger to operate detrainment door. This control shall be done from TCMS, OCC & DCC. 13.7.1.16.7 Adequate protection shall be ensured to protect the displays from vandalism. 13.7.2 Public Address System 13.7.2.1 The PA system shall operate with uniform audio quality throughout a train and shall be designed to inhibit audio feedback or echo. 13.7.2.2 The Contractor shall submit for approval an audibility analysis for the PA system, including the location of each speaker in the car. The minimum acceptable Speech Transmission Index must be better than 0.5. [CDRL 13-4]. 13.7.2.3 The PA system shall be muted when not in use. 13.7.2.4 The PA system shall enable the train Operator and OCC/BCC operator, using the CCH microphone, to make announcements from the operating desk to passengers throughout the train and to persons on station platforms (using train’s exterior speakers). 13.7.2.5 A switch matrix shall be used to select the PA speakers on the inside of the train, on the outside of the train (independently for left or right side), or both inside and outside the train (with both sides active) during operation and testing purposes. 13.7.2.6 The PA system shall operate without a loss of audio quality on the maximum-length of train. 13.7.2.7 All controls of the PA system shall be located on the CCH. 13.7.2.8 All the announcements being broadcasted using CCH microphone shall be recorded and the recordings shall be available in the train for up-to 7 days. 13.7.2.9 Audio levels of all the announcements in the train shall be automatically adjustable based on both the train speed and dynamic passenger loading in the train. Contractor shall provide to CMRL, volume control settings at various dB levels which can be selected and followed during train commissioning stage itself suiting to the requirements of passengers. 13.7.2.10 All the passenger emergency intercom communication with OCC & train operator, DCC & Train operator shall be two way and full duplex type. The sound of communications shall be free from background noise and shall be free from disturbances. Chennai Metro Rail Project Phase – II Bid No. ARE03 Part 2 – Section VI ERTS – Communications CMRL / Rev. B 13-10 December 2020 13.7.3 Power Amplifier 13.7.3.1 Power amplifiers shall meet the requirements of EIA-SE-101 or any latest applicable standards. 13.7.3.2 The power amplifiers shall be capable of delivering a minimum of 50 Watts configured as a constant voltage distribution system at not more than 1 percent total harmonic distortion in the range of 100 Hz to 8 kHz. 13.7.3.3 The frequency response shall be within ±1 dB from 100 Hz to 8 kHz, with provision for a roll-off of 6 dB per octave below 100 Hz. 13.7.3.4 The signal-to-noise ratio of the amplifier below the compression threshold shall be at least 65 dB 13.7.3.5 Each amplifier shall be stable, with no oscillation present during any normal operation. 13.7.3.6 Amplifier controls shall be equipped with a locking mechanism to prevent inadvertent adjustments and shall be accessible only for maintenance or service. 13.7.3.7 Each power amplifier shall feed 50% of the speakers in the same car and 50% in the adjoining car, to ensure that in the event of a single power amplifier failure, at least half of the speakers are still operative in the car. 13.7.4 Speaker General Requirements 13.7.4.1 All interior speakers shall be of transportation grade, direct radiating, axial-free, permanent magnet type and shall comply with EIA-SE-103 or any latest applicable standards. 13.7.4.2 The interior speakers shall have an axial-free field sound pressure level (SPL) of 95 dB referenced to 2 x 10-11 N/mm² at a distance of 4 ft [1220 mm] from the speaker. 13.7.4.3 Off-axis coverage between any two adjacent speakers shall not be greater than 6 dB below the on-axis SPL for uniform sound distribution. 13.7.4.4 The enclosure and the speaker shall be removable from the vehicle as a complete unit. 13.7.5 Interior Speakers and Exterior Speakers 13.7.5.1 Interior speakers shall be evenly spaced longitudinally in passenger seating areas. 13.7.5.2 Metal covers or plastic enclosures shall protect the interior speakers from dust, moisture, and vandalism. Chennai Metro Rail Project Phase – II Bid No. ARE03 Part 2 – Section VI ERTS – Communications CMRL / Rev. B 13-11 December 2020 13.7.5.3 The frequency response shall be ±5 dB from 300 Hz to 8kHz, with a gradual roll-off of response above 7 kHz. 13.7.5.4 The exterior speakers shall be similar to the interior speakers except that they shall be suitable for outdoor use and have suitable IP 65 protection. 13.7.5.5 Exterior speakers shall be placed such that, they shall not be closed behind the permanent panels of station Platform Screen Doors (PSD). 13.7.5.6 The connecting cables of the exterior mounted speakers shall be protected using cable glands. 13.8 AUTOMATIC ANNOUNCEMENTS 13.8.1 Automatic announcements shall include, but shall not be limited to, station arrival, Door opening side, current running route, route destination station, next station stop, skip station, door opening side, connecting station information as well as further secondary special and emergency messages to be determined by CMRL during design stage. The announcement control unit shall be an integral part of the CCH or, alternatively, the Passenger Information System (PIS). 13.8.2 Announcements from the OCC Operator/Train operator/BCC operator/DCC operator shall always override automatic announcement. 13.8.3 The announcements shall be broadcasted automatically when the train moves between the stations. 13.8.4 The automatic announcement function shall use locally stored predefined digital messages and shall broadcast these messages to passengers automatically at designated track locations by means of location and direction information derived from signaling system and also an independent Rolling stock vehicle locator system. Overriding automatic messages by manual message triggering by the operator shall also be possible. 13.8.5 Provision shall be available for the operator of train/OCC/BCC/DCC to enter the route related information manually into communication system for the purpose of enabling automatic announcements. 13.8.6 The digitally recorded messages shall be broadcast over the PA system. Text messages shall be displayed on the passenger information display units. 13.8.7 The audible and text messages shall be synchronized with each other on the displays and speakers to provide audible and visible information compliant with “The Rights of Persons with Disabilities Act, 2016”. 13.8.8 A pre-recorded announcement or tone, advising passengers while the doors are opening and when doors are closing shall be broadcasted. These announcements Chennai Metro Rail Project Phase – II Bid No. ARE03 Part 2 – Section VI ERTS – Communications CMRL / Rev. B 13-12 December 2020 shall be broadcasted by the communications system, triggered by signals from the door control system and signaling door information. 13.8.9 It shall be possible for CMRL to record and change the pre-recorded route related messages, special messages and add such recordings to all trains. Necessary tools and software shall be provided by the contractor to CMRL to perform this function. 13.8.10 The preferred method of message storage is by internal storage which can be updated via the network, or by programmable memory cards. 13.8.11 Messages shall be recorded using a professional recording studio, or alternative method, subject to CMRL’s approval. 13.8.12 The Contractor shall provide a detailed description of the message recording and transfer process at the time of PDR. The recording and transfer process and methodology shall be subject to CMRL approval. 13.8.13 All the announcements shall be stored in two languages, Tamil and English. 13.8.14 During the operation time, CMRL may run the trains in multiple combination of routes within the corridors 3, 4 & 5 which may subject to change during the operation stage. Hence Contractor shall design the communication system such a way that automatic announcements shall work in trains within any route operated by the CMRL. 13.8.15 Implementation of the automatic route related announcement system of trains shall be functioned by using signaling variables as a main function. Rolling Stock contractor shall interface with Signaling contractor for this information. The Rolling stock contractor shall also have an independent automatic route related announcement system in trains for redundancy purpose only. This redundant system shall be functional in all UTO, non-UTO and degraded modes of train operation and shall be designed to have all the functions of the Automatic Passenger announcement system. 13.8.16 Manual Pre-Recorded announcements 13.8.16.1 There shall be a provision to store pre–recorded voice messages in the communication system by CMRL. 13.8.16.2 These pre-recorded messages shall be broadcasted by the train operator from the driver desk Communications Control Head (CCH) in all non-UTO modes and degraded modes of operation. 13.8.16.3 RSC consoles in OCC, BCC & DCC shall have the provision to select pre- recorded messages remotely and to broadcast in any train. 13.8.16.4 Addition and deletion of pre-recorded messages shall be possible by CMRL. Contractor shall provide necessary software/ tools to CMRL. Chennai Metro Rail Project Phase – II Bid No. ARE03 Part 2 – Section VI ERTS – Communications CMRL / Rev. B 13-13 December 2020 13.9 OPERATOR’S DESK-TO-DESK COMMUNICATIONS 13.9.1 Communications equipment shall be provided to permit two-way full-duplex voice communications between the active Driver desk and the non-active driver desk in a train. 13.9.2 The Operator shall accomplish desk-to-desk communications by selecting this mode on the CCH and using the microphone. 13.9.3 The sound quality of desk-to-desk communications shall be of the same quality as the PA as detailed in ERTS13.7.2. 13.9.4 The maximum permissible variation in sound levels shall not exceed 5 dB. (Standard to check). 13.9.5 Desk-to-desk communication shall not be broadcasted in the saloon speakers. A dedicated speaker near to the Driver desk shall be installed for this purpose. This speaker shall have a provision for volume adjustment. 13.9.6 The desk-to-desk conversation shall be recorded in the train and the recordings shall be available for up-to 7 days in the train. 13.10 PASSENGER EMERGENCY COMMUNICATIONS 13.10.1 A two-way full-duplex emergency intercom shall be provided to enable passengers to initiate hands-free communications with the train Operator in non-UTO mode and with RSC console of OCC, BCC & DCCs in UTO mode. All the passenger emergency intercom communication with RSC console of OCC, BCC & DCCs and train operator shall be two way and full duplex type in both UTO mode and non-UTO modes of operation. The communications shall be free from background noise and shall be free from disturbances. 13.10.2 When a pushbutton on the passenger emergency intercom is depressed, an audible and visible annunciation shall be provided on the Train’s CCH and in RSC console of OCC, BCC & DCCs based on the mode of operation. The Contractor shall present for CMRL approval during design review the pushbutton type, which should minimize unwarranted activation by passengers. The push-buttons for this purpose shall be flushed mounted with the car interiors. 13.10.3 A press-to-reset soft button shall be available at the CCH to permit the Operator to reset any activated passenger intercom (PEI). Provision in RSC console of OCC, BCC & DCCs shall also be available to reset any activated PEI in UTO mode of operation 13.10.4 The press-to-latch button at the passenger intercom station shall illuminate when activated. The illumination shall turn off when the intercom is reset. Chennai Metro Rail Project Phase – II Bid No. ARE03 Part 2 – Section VI ERTS – Communications CMRL / Rev. B 13-14 December 2020 13.10.5 Passenger emergency intercoms shall be provided at 50% of the saloon doors in each car, i.e. 4 no’s per car. Also the two detrainment doors shall be provided with PEI to facilitate emergency commination with passengers during train detrainment process. The PEI locations shall be finalized in consultation with CMRL. 13.10.6 The passenger emergency intercom shall be easily accessible to wheelchair patrons and shall be compliant to “The Rights of Persons with Disabilities Act, 2016” and shall have Braille instructions which explain the process of operation of the Passenger Emergency communication device. 13.10.7 The Contractor shall submit for approval information on the design and location of the passenger intercom stations. [CDRL 13-5] 13.10.8 Not Used 13.10.9 The conversation between passenger and train Operator/ OCC operator/BCC operator shall be recorded in the train and shall be downloadable. These recordings shall be available for at least 30 days. 13.10.10 Suitable signage shall be provided in both English and Tamil at the PEI location. 13.10.11 The conversation between operator and passenger, OCC and Passenger, BCC and Passenger shall be recorded in the train for up to 30 days. 13.10.12 While activation of Passenger Emergency Intercom in any car, the CCTV’s of the car which focuses the specific PEI area shall be automatically selected and displayed in OCC, BCC, DCC and in TCMS. 13.10.13 Upon activation of PEI, there shall be an audio visual alarm in OCC/BCC with the details of train. 13.11 NOT USED 13.12 NOT USED 13.13 VIDEO SURVEILLANCE SYSTEM (CCTV) 13.13.1 Each car shall be equipped with a video surveillance system to observe passengers and equipment inside and outside the saloons. The CCTV system shall consist of video cameras, operator monitor screens, and digital video storage including the control electronics, and associated power supply & network. The video broadcasting in CCH and video recordings shall be available at a frame rate of 25 fps or more. The picture quality shall be minimum level E, at 100% Rotakin measured, according to EN50132-7. 13.13.2 Each car shall be pre-wired to provide power to the video system from a dedicated circuit breaker. Chennai Metro Rail Project Phase – II Bid No. ARE03 Part 2 – Section VI ERTS – Communications CMRL / Rev. B 13-15 December 2020 13.13.3 Each car shall be provided with conduit to be able to connect each video camera to the central video recorder (one in each operator’s desk of a train). The connection between the cars of a train shall be by jumper conduit with weather-proof quick disconnects at both ends. The memory of each central video recorder shall support to store seven full days of video recordings of all the interior & exterior cameras of the train. After seven days the video recordings shall be overwritten on First in First out (FIFO) basis. Provision shall be available to download video recordings of any camera from a single point in the train. Necessary software for downloading video recordings shall be provided to CMRL. 13.13.4 The Contractor shall propose an interior video surveillance system, including the appropriate number of cameras, to provide adequate coverage of the passengers in the coaches, all saloon doors, Passenger Emergency Intercoms (PEI), Emergency Egress Devices, Wheel chair area, Driver Desk and detrainment door. There shall not be any blind spot for video surveillance in the car. 13.13.5 In addition to the cameras provided inside the saloon, contractor shall install cameras outside the saloon to monitor the track, OHE, pantograph and platforms of each station. Outside cameras shall be weatherproof and operate in all conditions of passenger service and in commissioning. The recordings from these cameras must be clear in dark, daytime, night-time and in all hours of operation even in case of non-availability of any exterior lighting. All the train cameras shall be Infra-red type or latest better type. Contractor shall submit CCTV camera locations for both inside and outside the coach for CMRL approval (CDRL 13-10). 13.13.6 The cameras shall support for a video resolution of 1920x1080 HD and 25 frames per second, minimum illumination of 0.3 lux (color), iris control, minimum 90 dB wide dynamic range (WDR) and Power Over Ethernet (POE) compliant. Cameras shall be of proven design in railway applications. 13.13.7 The exterior camera view shall be continuously streamed in a separate CCTV monitoring screen in OCC, BCC & in DCCs of all depots. However, provision shall be available for the operator to remotely view any train’s specific interior/exterior camera’s live recording from the corresponding train’s CCH, from OCC console, from DCC console and from any Station Control Room (SCR) console (within one station vicinity of the train on either ends). RS contractor shall interface with Signaling & Telecommunication contractors for this requirement. 13.13.8 In case of activation of PEI in any of the car by passenger, the camera recording focusing the PEI shall be displayed on the CCTV monitoring screen available in OCC, BCC & DCC and also in TCMS CCH of the specific train. 13.13.9 Similarly, critical events like opening of detrainment door, Fire & smoke inside saloon, opening of driver console desk, obstacle detection by saloon doors, track/ catenary/infrastructure events shall also be displayed automatically on the CCTV monitoring screen in train as well as in CCTV screens in OCC, BCC & DCCs. Contractor shall propose any further list of critical events for this function to occur. Events and logic of automatic popping up of CCTV images of the above events in OCC, BCC DCC and CCH screen in operator’s desk shall be submitted for CMRL approval. Chennai Metro Rail Project Phase – II Bid No. ARE03 Part 2 – Section VI ERTS – Communications CMRL / Rev. B 13-16 December 2020 The contractor shall submit the above said (i.e., 13.13.1 to 13.13.9) for CMRL approval. [CDRL 13 - 6] 13.13.10 Provision shall be available on demand to remotely view live CCTV recordings of any train as per ERTS clause 13.13.7. Necessary CCTV display & required storage devices in (OCC, BCC, DCCs and in SCR) for this function shall be provided by the Telecommunications contractor. This storage shall be available for at-least 7 continuous days of operation in OCC, BCC & DCCs. After seven days the video recordings shall be overwritten on First in First out (FIFO) basis. Provision shall be available to download video recordings of any train from a single point in the OCC, BCC & DCCs. Necessary software for remote downloading of CCTV video recordings shall be provided to CMRL RS division. RS contractor shall interface with the Telecom contractor as per Appendix C requirements. 13.13.11 The Rolling Stock contractor, shall provide the suitable means for the transmission of video recordings generated by the On-Board CCTV to OCC, DCC and SCR consoles. Necessary hardware for transmitting videos to Telecom network shall be provided and installed by Rolling stock contractor inside the train. 13.13.12 Detailed dimensional, weight and power requirement information for CMRL approval shall be submitted at the time of Preliminary Design Review. 13.13.13 The Contractor shall provide suitable space, mounting provisions, wiring and separate circuit protection for the communication equipment including power supplies. The power supplies shall be fed from the low voltage power supply and emergency storage battery circuit. Contractor shall use best practices for equipment wiring and network wiring as per the relevant international standards. 13.13.14 The Contractor shall provide and install cables from the communication equipment to the corresponding antennae, using removable connectors at each end of the cable. The cable impedance shall match the output impedance of the equipment. The contractor shall submit the above said (i.e., 13.13.10 to 13.13.14) for CMRL approval. [CDRL 13 - 7] 13.13.15 The Contractor shall design the installation of antennae as weatherproof and capable of resisting the carwash. Sealant shall not be permitted. 13.13.16 It shall be possible to remotely download the train CCTV footages from OCC, BCC & from DCCs even when the train is in operation. 13.14 UTO 13.14.1 The design of Communications system and its relevant components in train shall support for the Unattended Train Operation (UTO) in Grade of Automation-4 (GoA4) in the CMRL Phase 2 corridors defined in ERTS Section 1. Trains shall be operated in GoA4 UTO mode from the initial stage of commissioning and revenue operations. Hence all the feed-backs, information and train controls which are available on TCMS screen shall also be available in OCC (operational control Centre) and DCC (Depot Chennai Metro Rail Project Phase – II Bid No. ARE03 Part 2 – Section VI ERTS – Communications CMRL / Rev. B 13-17 December 2020 Control Centre) for smooth operation of passenger service. The Contractor shall submit the details of controls to be provided in OCC & DCC for review and approval of CMRL. (CDRL 13-8) 13.15 DELIVERABLES 13.15.1 Documents Contract deliverables required by this section of the Technical Provisions are summarized below. CDRL 13-1 Data sheets/specification sheets for all communications system components (ref. TS13.2.6) CDRL 13-2 communication system functional descriptions, display layout of functions in CCH console, control scheme and block diagrams of the CCH and associated communications components (ref. TS13.4.6) CDRL 13-3 Design, specifications and location of interior and exterior PIS displays (ref TS13.7.1.13) CDRL 13-4 The Contractor shall submit for approval an audibility analysis for the PA system, including the location of each speaker in the car. (TS 13.7.2.2) CDRL 13-5 The Contractor shall submit for approval information on the design and location of the passenger intercom stations at PDR. (TS 13.10.7) CDRL 13-6 The contractor shall submit for CMRL approval, data as per clauses 13.13.1 to 13.13.9 CDRL 13-7 The contractor shall submit for CMRL approval, data as per clauses 13.13.10 to 13.13.14 CDRL 13-8 The Contractor shall submit the communication system controls to be provided in OCC for CMRL approval ERTS clause 13.14. CDRL 13-9 The contractor shall submit all tools for troubleshooting and maintenance of communication system for approval of CMRL ERTS clause 13.15.2 CDRL 13-10 Contractor shall submit CCTV camera locations inside and outside the coach for CMRL approval ERTS 13.13.5. CDRL 13 -11 The Contractor shall submit for approval, during design review, detailed information on radio equipment interfaces, mounting, and wiring. ERTS Clause 13.5.7. 13.15.2 Tools for Troubleshooting and maintenance a) The contractor shall submit all tools for troubleshooting and maintenance of communication system, hardware protocols, software protocols, interface control documents with pin details and variable information for approval of CMRL. It shall be possible by CMRL to implement a lab for all communication equipment with the provided details by contractor. (CDRL 13-9) Chennai Metro Rail Project Phase – II Bid No. ARE03 Part 2 – Section VI ERTS – Communications CMRL / Rev. B 13-18 December 2020 b) The cost for above point is deemed to be included by contractor while proposing the Pricing Document, Annexure GA 5 Special tools list.'"
            ]
          },
          "metadata": {
            "tags": []
          },
          "execution_count": 171
        }
      ]
    },
    {
      "cell_type": "code",
      "metadata": {
        "colab": {
          "base_uri": "https://localhost:8080/"
        },
        "id": "i9N9tcRN98hR",
        "outputId": "029da178-8b14-49b3-a731-eb49b631d53d"
      },
      "source": [
        "!python -m textblob.download_corpora"
      ],
      "execution_count": null,
      "outputs": [
        {
          "output_type": "stream",
          "text": [
            "[nltk_data] Downloading package brown to /root/nltk_data...\n",
            "[nltk_data]   Package brown is already up-to-date!\n",
            "[nltk_data] Downloading package punkt to /root/nltk_data...\n",
            "[nltk_data]   Package punkt is already up-to-date!\n",
            "[nltk_data] Downloading package wordnet to /root/nltk_data...\n",
            "[nltk_data]   Package wordnet is already up-to-date!\n",
            "[nltk_data] Downloading package averaged_perceptron_tagger to\n",
            "[nltk_data]     /root/nltk_data...\n",
            "[nltk_data]   Package averaged_perceptron_tagger is already up-to-\n",
            "[nltk_data]       date!\n",
            "[nltk_data] Downloading package conll2000 to /root/nltk_data...\n",
            "[nltk_data]   Package conll2000 is already up-to-date!\n",
            "[nltk_data] Downloading package movie_reviews to /root/nltk_data...\n",
            "[nltk_data]   Package movie_reviews is already up-to-date!\n",
            "Finished.\n"
          ],
          "name": "stdout"
        }
      ]
    },
    {
      "cell_type": "code",
      "metadata": {
        "colab": {
          "base_uri": "https://localhost:8080/",
          "height": 202
        },
        "id": "VRg71YNN9hdT",
        "outputId": "5fc5b09e-06e6-4602-e34a-9ba224f0ed81"
      },
      "source": [
        "def pdf_to_df(path):\n",
        "    content = a\n",
        "    blob = TextBlob(content)\n",
        "    words = blob.words\n",
        "    df = pd.DataFrame({'sentence': words, 'label': np.nan})\n",
        "    df['sentence'] = df.sentence.apply(''.join)\n",
        "    return df\n",
        "df = pdf_to_df('Output.pdf')\n",
        "df.head()"
      ],
      "execution_count": null,
      "outputs": [
        {
          "output_type": "execute_result",
          "data": {
            "text/html": [
              "<div>\n",
              "<style scoped>\n",
              "    .dataframe tbody tr th:only-of-type {\n",
              "        vertical-align: middle;\n",
              "    }\n",
              "\n",
              "    .dataframe tbody tr th {\n",
              "        vertical-align: top;\n",
              "    }\n",
              "\n",
              "    .dataframe thead th {\n",
              "        text-align: right;\n",
              "    }\n",
              "</style>\n",
              "<table border=\"1\" class=\"dataframe\">\n",
              "  <thead>\n",
              "    <tr style=\"text-align: right;\">\n",
              "      <th></th>\n",
              "      <th>sentence</th>\n",
              "      <th>label</th>\n",
              "    </tr>\n",
              "  </thead>\n",
              "  <tbody>\n",
              "    <tr>\n",
              "      <th>0</th>\n",
              "      <td>Chennai</td>\n",
              "      <td>NaN</td>\n",
              "    </tr>\n",
              "    <tr>\n",
              "      <th>1</th>\n",
              "      <td>Metro</td>\n",
              "      <td>NaN</td>\n",
              "    </tr>\n",
              "    <tr>\n",
              "      <th>2</th>\n",
              "      <td>Rail</td>\n",
              "      <td>NaN</td>\n",
              "    </tr>\n",
              "    <tr>\n",
              "      <th>3</th>\n",
              "      <td>Project</td>\n",
              "      <td>NaN</td>\n",
              "    </tr>\n",
              "    <tr>\n",
              "      <th>4</th>\n",
              "      <td>Phase</td>\n",
              "      <td>NaN</td>\n",
              "    </tr>\n",
              "  </tbody>\n",
              "</table>\n",
              "</div>"
            ],
            "text/plain": [
              "  sentence  label\n",
              "0  Chennai    NaN\n",
              "1    Metro    NaN\n",
              "2     Rail    NaN\n",
              "3  Project    NaN\n",
              "4    Phase    NaN"
            ]
          },
          "metadata": {
            "tags": []
          },
          "execution_count": 173
        }
      ]
    },
    {
      "cell_type": "code",
      "metadata": {
        "id": "MYjNUhDh9sDd"
      },
      "source": [
        "df.to_pickle('brakes.pickle')"
      ],
      "execution_count": null,
      "outputs": []
    },
    {
      "cell_type": "code",
      "metadata": {
        "colab": {
          "base_uri": "https://localhost:8080/",
          "height": 48
        },
        "id": "K1_sSsD3LUlm",
        "outputId": "96337188-13f9-41a0-a702-30752d094b96"
      },
      "source": [
        "column_names = ['requirementID', 'requirement', 'Label']\n",
        "dfCBC = pd.DataFrame(columns= column_names)\n",
        "dfCBC"
      ],
      "execution_count": null,
      "outputs": [
        {
          "output_type": "execute_result",
          "data": {
            "text/html": [
              "<div>\n",
              "<style scoped>\n",
              "    .dataframe tbody tr th:only-of-type {\n",
              "        vertical-align: middle;\n",
              "    }\n",
              "\n",
              "    .dataframe tbody tr th {\n",
              "        vertical-align: top;\n",
              "    }\n",
              "\n",
              "    .dataframe thead th {\n",
              "        text-align: right;\n",
              "    }\n",
              "</style>\n",
              "<table border=\"1\" class=\"dataframe\">\n",
              "  <thead>\n",
              "    <tr style=\"text-align: right;\">\n",
              "      <th></th>\n",
              "      <th>requirementID</th>\n",
              "      <th>requirement</th>\n",
              "      <th>Label</th>\n",
              "    </tr>\n",
              "  </thead>\n",
              "  <tbody>\n",
              "  </tbody>\n",
              "</table>\n",
              "</div>"
            ],
            "text/plain": [
              "Empty DataFrame\n",
              "Columns: [requirementID, requirement, Label]\n",
              "Index: []"
            ]
          },
          "metadata": {
            "tags": []
          },
          "execution_count": 175
        }
      ]
    },
    {
      "cell_type": "code",
      "metadata": {
        "colab": {
          "base_uri": "https://localhost:8080/"
        },
        "id": "dzzHoXvkLkTj",
        "outputId": "d74a0da2-e8e4-4dc7-94ca-51c2ff4a6631"
      },
      "source": [
        "len(re.findall(r\"(\"+str(number_of_section)+\"(?!-)(\\.\\d+)*)\",df['sentence'][1]))"
      ],
      "execution_count": null,
      "outputs": [
        {
          "output_type": "execute_result",
          "data": {
            "text/plain": [
              "0"
            ]
          },
          "metadata": {
            "tags": []
          },
          "execution_count": 176
        }
      ]
    },
    {
      "cell_type": "code",
      "metadata": {
        "colab": {
          "base_uri": "https://localhost:8080/",
          "height": 35
        },
        "id": "tFxAbrbvV1kZ",
        "outputId": "5807e87d-5e6b-4fec-cfa6-9c8028b1e77a"
      },
      "source": [
        "\"(^\"+str(number_of_section)+\"(?!-)(\\.\\d+)*(?!\\d+))\""
      ],
      "execution_count": null,
      "outputs": [
        {
          "output_type": "execute_result",
          "data": {
            "application/vnd.google.colaboratory.intrinsic+json": {
              "type": "string"
            },
            "text/plain": [
              "'(^13(?!-)(\\\\.\\\\d+)*(?!\\\\d+))'"
            ]
          },
          "metadata": {
            "tags": []
          },
          "execution_count": 177
        }
      ]
    },
    {
      "cell_type": "code",
      "metadata": {
        "id": "1ZlXZqAHLUfR"
      },
      "source": [
        "def selectSentence(year):\n",
        "  #registery = re.findall(r\"[-+]?\\d*\\.\\d+|\\d+\", year)\n",
        "  #registery = re.findall(r\"\\d*\\.\\d+|\\d+\", year)\n",
        "  #registery = re.findall(r\"\\b12\\.\\d+|\\b12\\b\",year)\n",
        "  #registery = re.findall(r\"(12(?!-)(\\.\\d+)*)\",year)\n",
        "  #registery  = re.findall(r\"(12(?!-)(\\.\\d+)*(?!\\d+))\",year)\n",
        "  #registery  = re.findall(r\"(^12(?!-)(\\.\\d+)*(?!\\d+))\",year)\n",
        "  registery = re.findall(r\"(^\"+str(number_of_section)+\"(?!-)(\\.\\d+)*(?!\\d+))\",year)\n",
        "  if len(registery) == 1:\n",
        "    registery = registery[0][0]\n",
        "  # initialize an empty string\n",
        "  str1 = \"\"   \n",
        "  # traverse in the string  \n",
        "  for ele in registery: \n",
        "    str1 += ele  \n",
        "    \n",
        "  return str1 \n",
        "\n",
        "df['sentence2'] = df['sentence'].apply(lambda x: selectSentence(x))\n",
        "cut_df = df[df.astype(str)['sentence2'] != '']\n",
        "number_indices = cut_df.index.to_list()\n",
        "cut_df = cut_df.drop(columns=['sentence2'])\n",
        "cut_df.to_excel(\"12 extracts.xlsx\")"
      ],
      "execution_count": null,
      "outputs": []
    },
    {
      "cell_type": "code",
      "metadata": {
        "colab": {
          "base_uri": "https://localhost:8080/",
          "height": 35
        },
        "id": "LAqRLFezTAEY",
        "outputId": "3d296c8e-9338-415a-9de1-7892589536ee"
      },
      "source": [
        "sentence1 = [df.sentence[0], df.sentence[1],df.sentence[3]]\n",
        "(' ').join(sentence1)"
      ],
      "execution_count": null,
      "outputs": [
        {
          "output_type": "execute_result",
          "data": {
            "application/vnd.google.colaboratory.intrinsic+json": {
              "type": "string"
            },
            "text/plain": [
              "'Chennai Metro Project'"
            ]
          },
          "metadata": {
            "tags": []
          },
          "execution_count": 179
        }
      ]
    },
    {
      "cell_type": "code",
      "metadata": {
        "colab": {
          "base_uri": "https://localhost:8080/",
          "height": 88
        },
        "id": "i_lY8xiHT9N7",
        "outputId": "439cb4d9-c13f-4863-cc96-04cc04b5001f"
      },
      "source": [
        "sentence1 = []\n",
        "for k in range(3):\n",
        "  print(k)\n",
        "  sentence1.append(df.sentence[k])\n",
        "(' ').join(sentence1)"
      ],
      "execution_count": null,
      "outputs": [
        {
          "output_type": "stream",
          "text": [
            "0\n",
            "1\n",
            "2\n"
          ],
          "name": "stdout"
        },
        {
          "output_type": "execute_result",
          "data": {
            "application/vnd.google.colaboratory.intrinsic+json": {
              "type": "string"
            },
            "text/plain": [
              "'Chennai Metro Rail'"
            ]
          },
          "metadata": {
            "tags": []
          },
          "execution_count": 180
        }
      ]
    },
    {
      "cell_type": "code",
      "metadata": {
        "id": "OqYQ_e626Inr"
      },
      "source": [
        "sentence2 = []\n",
        "for i in range(len(number_indices)-1):\n",
        "  difference = number_indices[i+1] - number_indices[i]\n",
        "  sentence1 = []\n",
        "  for k in range(difference):\n",
        "    sentence1.append(df.sentence[k+number_indices[i]])\n",
        "  p = (' ').join(sentence1)\n",
        "  sentence2.append(p)\n",
        "    #print(k)"
      ],
      "execution_count": null,
      "outputs": []
    },
    {
      "cell_type": "code",
      "metadata": {
        "colab": {
          "base_uri": "https://localhost:8080/"
        },
        "id": "n2_sQNX0S0x5",
        "outputId": "8b8c661d-16fa-48f1-df83-71031c46469b"
      },
      "source": [
        "sentence2"
      ],
      "execution_count": null,
      "outputs": [
        {
          "output_type": "execute_result",
          "data": {
            "text/plain": [
              "['13 COMMUNICATIONS',\n",
              " '13.1 CITED REFERENCES EIA-SE-101 Amplifiers for Sound Equipment EIA-SE-103 Speakers for Sound Equipment EIA-SE-105 Microphones for Sound Equipment IEC 60571 Hardware System IEC 61375-1 Train Communications Network – Part 1 Technical Specification MIL-STD-1472 Human Engineering Design Criteria RGS GM/RT/2472 Data Recorders on Trains – Design Requirements BS EN 60529 Specification for Degrees of Protection Provided by Enclosures Note Any other equivalent standards to the above standards may be followed subject to approval of CMRL All the standards used shall be latest issued revisions',\n",
              " '13.2 GENERAL',\n",
              " '13.2.1 The Contractor shall conform to applicable international standards and best practices for communications requirements and shall be responsible for design and interface coordination installing and testing the entire train communications system',\n",
              " '13.2.2 The system components shall be modular and shall be removable for servicing without affecting other functions or devices',\n",
              " '13.2.3 The communications system shall include the following major components a Not used b Communications Control Heads CCH system c Public Information System PIS d Public address system with automatic announcements e Exterior and interior message displays f Private operator ’ s desk-to-desk Intercom during special situations g Passenger Emergency Intercom from OCC and TCMS h Not used i Not used j Interior and Exterior Video Surveillance and CCTV A description of the major components listed above is as below Chennai Metro Rail Project Phase – II Bid No ARE03 Part 2 – Section VI ERTS – Communications CMRL Rev B 13-2 December 2020',\n",
              " '13.2.4 The Contractor shall verify through testing that all required inter-car communications are totally functional through the car to car jumper cables of a 3-car train Provisions shall be made for the conversion to a future 6-car train',\n",
              " '13.2.5 All electrical materials components and installation methods used in the fabrication of the communication system including wire cable printed circuit boards and circuit protective devices shall conform to the requirements of ERTS Section 19',\n",
              " '13.2.6 The Contractor shall submit data sheets and/or specification sheets for all communications system components CDRL 13-1',\n",
              " '13.2.7 Structured programming techniques as specified in ERTS Section 19 and ERTS section 20 shall be used for all software driven communications subsystems',\n",
              " '13.2.8 All communications equipment shall be operable when train auxiliary supply is ON and shall also be functional with battery supply alone',\n",
              " '13.2.9 Sufficient extra cable length shall be provided to allow at least three re-terminations at each end of all the cables inside Jumper cable conduits at terminal block connections under frame connections roof connections saloon interior connections',\n",
              " '13.2.10 Each main communication system shall be operated and inhibited independently in case of failure This inhibition shall be possible from Train TCMS OCC BCC and DCCs',\n",
              " '13.2.11 The components of communication system shall be installed such that the mounting hardware is readily accessible for ease of service and maintenance Exposed hardware is not permitted',\n",
              " '13.2.12 Provision shall be provided in TCMS for Single point upload of all software related to Communications system of train There shall also be a provision to remote download of entire communication system logs from the train according to ERTS Section 14.11 and ERTS section 14.13',\n",
              " '13.2.13 Single point failure in the communication system shall not impact the complete train communication system Hence sufficient redundancies shall be incorporated',\n",
              " '13.2.14 All the communication system logs and health status of equipment shall be sent to OCC DCC in a real time This information shall be accessible to authorized maintainers This function shall be provided as per the ERTS section 14.11 and ERTS Section 14.13',\n",
              " '13.2.15 Software of complete communication system described in ERTS section',\n",
              " '13 shall be uploaded from a single point location inside the train',\n",
              " '13.2.16 The Contractor shall provide suitable space mounting provisions wiring and separate circuit protection for the communication equipment including power supplies The power supplies shall be fed from the low voltage power supply and emergency storage Chennai Metro Rail Project Phase – II Bid No ARE03 Part 2 – Section VI ERTS – Communications CMRL Rev B 13-3 December 2020 battery circuit Contractor shall use best practices for equipment wiring and network wiring as per the relevant international standards',\n",
              " '13.2.17 Contractor shall refer to ERTS section 3 ERTS Section 5 and Appendix C for fitment of communication and interface equipment within operator ’ s desk and in train',\n",
              " '13.2.18 The Communications system shall be capable of operation in UTO sleep modes as defined in ERTS Section 14.4.9',\n",
              " '13.2.19 The Communications System functions has to meet the all the criteria defined in ERTS section 14 TCMS',\n",
              " '13.2.20 All electrical and electronic components shall comply with the EMC and EMI requirements of EN 50121 all parts IEEE 16 EN 5501 EN 1 and IEC 61000-4 standards or other equivalent international standards The requirements of EMC EMI requirements referred in ERTS Section 10.19 ERTS section 2.18 of the rolling stock shall be met',\n",
              " '13.2.21 Fire properties of the materials used shall comply with EN 45545 part 1 to part 7 latest editions Category 4-A Hazard level HL3 as a minimum or better international standard applicable for similar Metro applications Requirements of ERTS section 2.26 shall be met',\n",
              " '13.2.22 Material requirements of ERTS section 9 shall be compliant with the requirements of ERTS Section 19',\n",
              " '13.3 POWER SUPPLY',\n",
              " '13.3.1 All communication equipment shall be powered from the low voltage power supply and storage battery with voltage ranges as defined in ERTS Section 9',\n",
              " '13.3.2 The communications system shall be configured with a separate circuit breaker for each major component Failure of one component shall not affect the functionality of other major components',\n",
              " '13.4 COMMUNICATIONS CONTROL HEAD',\n",
              " '13.4.1 A Communications Control Head CCH shall be installed in the Driver Desk at both ends of the train Communications Control Head is a touch screen display which shall be operable by authorized Operation/Maintenance personnel with a unique login details Contractor may propose any emergency control buttons on operator ’ s desk apart from control from CCH console',\n",
              " '13.4.2 The CCH shall provide the Operator with a control interface to the entire communications system with the exception of the DMS and event recorder Chennai Metro Rail Project Phase – II Bid No ARE03 Part 2 – Section VI ERTS – Communications CMRL Rev B 13-4 December 2020',\n",
              " '13.4.3 The CCH shall interface with all audio and visual communication equipment and shall provide the following functions a Control and reset any passenger emergency intercom of the train b Select and control operator ’ s desk-to-desk communications c Control PIS announcements d Play independent and automatic route related audio visual announcements e Display CCTV footages of train along with their selection controls f Act as DDU in case of failure of DDU',\n",
              " '13.4.4 The status indications operation control and isolation of the features mentioned in ERTS',\n",
              " '13.4.3 shall be provided from CCH console inside the operator desk The console shall contain all the communication equipment status indications',\n",
              " '13.4.5 The communication system shall remain operational even if one of the two CCHs in a train has failed',\n",
              " '13.4.6 The Contractor shall submit communication system functional descriptions display layout of functions in CCH console control scheme and block diagrams of the CCH and associated communications components CDRL 13-2',\n",
              " '13.4.7 A Train operator microphone complying with EIA-SE-103 shall be provided on each driver desk This microphone shall be used for non-automatic PA announcements and for communication through operator ’ s desk-to-desk and passenger emergency intercoms During UTO GoA4 operations this microphone shall be sealed inside the operator ’ s desk panel in a safe manner without damage during operator ’ s desk panels open or closing function Suitable design of operator ’ s Mic shall be suggested by contractor',\n",
              " '13.4.8 Automatic Touch screen calibration shall be incorporated within the in CCH display during train restart activity The touch screen sensitivity shall be suitable for industrial applications and Rolling stock applications Train operator or maintainers shall not feel discomfort in operating the touch screen',\n",
              " '13.4.9 Driver Desk Speakers',\n",
              " '13.4.9.1 A speaker system shall be installed on each driver desk to ensure train radio and intercom systems communications between the driver and OCC driver and passengers and other radio functions required',\n",
              " '13.4.9.2 Speaker output shall be adjustable to the minimum required audible output level specified in ERTS clause',\n",
              " '13.7.2.9',\n",
              " '13.4.10 Automatic Touch screen calibration shall be incorporated within the CCH display during train restart activity The touch screen sensitivity shall be suitable for industrial Chennai Metro Rail Project Phase – II Bid No ARE03 Part 2 – Section VI ERTS – Communications CMRL Rev B 13-5 December 2020 applications and Rolling stock applications Train operator or maintainers shall not feel discomfort in operating the touch screen',\n",
              " '13.5 TETRA RADIO SYSTEM The TETRA radio system shall be supplied by the Tele-Communications Contractor shall ensure communications between train operator and control room The TETRA radio is for operations maintenance and voice communications and data applications in connection with data of the TCMS systems',\n",
              " '13.5.1 The TETRA radio system shall consist of exterior antennae console-mountable standard type radios and radio power supply units together with all installation materials and cables required for installation The RS Contractor shall install and connect these antennae on the train roof one radio in the console of each cab desk and one radio power supply in each cab desk',\n",
              " '13.5.2 Detailed dimensional weight and power requirement information shall be presented for CMRL approval at the time of Preliminary Design Review',\n",
              " '13.5.3 The RS Contractor shall provide suitably space mounting provisions wiring and separate circuit protection for the radio power supplies The radio power supplies shall be fed from the low voltage power supply and emergency storage battery circuit',\n",
              " '13.5.4 The RS Contractor shall provide and install cable from the radios to the corresponding antenna using removable connectors at each end of the cable The cable impedance shall match the output impedance of the radio The contractor shall submit the above said i.e',\n",
              " '13.5.1 to',\n",
              " '13.5.4 for CMRL approval',\n",
              " '13.5.5 The antenna-to-radio connection shall be kept as short as possible and shall have no angle connections unless otherwise approved by CMRL',\n",
              " '13.5.6 The Contractor shall use gaskets to make the installation of the antennas weatherproof and resistant to damage from the carwash service areas Sealant shall not be permitted for fixing of roof/exterior mounted equipment',\n",
              " '13.5.7 The Contractor shall submit for approval during design review detailed information on radio equipment interfaces mounting and wiring CDRL 13-11',\n",
              " '13.6 NOT USED',\n",
              " '13.7 PUBLIC INFORMATION SYSTEM The Public Information System PIS shall consist of both visual and audible announcements train information advertisements that comply with “ The Rights of Persons with Disabilities Act 2016 ” both inside and exterior of the vehicle The PIS shall interface with the TETRA radio system and Signaling system to allow full-duplex Chennai Metro Rail Project Phase – II Bid No ARE03 Part 2 – Section VI ERTS – Communications CMRL Rev B 13-6 December 2020 two way communications between passengers and the OCC BCC DCCs and vice versa',\n",
              " '13.7.1 Passenger Information Displays',\n",
              " '13.7.1.1 The passenger information displays shall consist of exterior information displays and interior information displays Control of these displays shall be integrated into the overall communications system',\n",
              " '13.7.1.2 In general these displays shall include but shall not be limited to information on the current running route route destination station next station stop skip station door opening side connecting station information as well as further secondary messages to be determined by CMRL during design stage',\n",
              " '13.7.1.3 In case of any further extensions/modifications of stations of the corridors and in case of any change in operation strategy of the train there shall be a requirement of additions/deletions/modifications of these route related messages in future Also there shall be requirement to modify the special/emergency announcements in train Hence a provision shall be provided to CMRL to increase/decrease/modify/update these messages independently using Contractor-supplied Software tools These tools shall be provided during the first train taking over by CMRL',\n",
              " '13.7.1.4 The information displays shall allow maximum visibility to all seated and standing passengers',\n",
              " '13.7.1.5 Control of all displays in a train shall be possible from the TCMS OCC BCC and DCCs',\n",
              " '13.7.1.6 The displays shall be all-electric alphanumeric and completely self-contained The display shall be capable of displaying both in Tamil and English languages',\n",
              " '13.7.1.7 The character font and size of the messages shall be designed for proper readability for all passengers inside the train',\n",
              " '13.7.1.8 All passenger information displays shall comply with “ The Rights of Persons with Disabilities Act 2016 ”',\n",
              " '13.7.1.9 The displays shall be readable in direct sunlight or complete darkness and all degrees of light in-between',\n",
              " '13.7.1.10 All the displays shall be LCD displays with LED back lit or any other latest better technology displays The viewing angle for the displays shall be minimum 178 Deg',\n",
              " '13.7.1.11 Not Used Chennai Metro Rail Project Phase – II Bid No ARE03 Part 2 – Section VI ERTS – Communications CMRL Rev B 13-7 December 2020',\n",
              " '13.7.1.12 The displays shall not require any external mask between pixels and shall not require any framing or support structure between characters that would give a discontinuous appearance',\n",
              " '13.7.1.13 The Contractor shall submit for approval information on the design specifications and location of the interior and exterior displays in design stage CDRL 13-3',\n",
              " '13.7.1.14 Interior Displays Electronic Route Maps',\n",
              " '13.7.1.14.1 Eight 8 no ’ s of LCD with LED backlit displays or any latest better technology displays used as electronic route maps at each saloon door shall be provided in each coach Refer to ERTS Section 2.2.15 The diagonal length of the display shall be at-least 37 inch-diagonal stretch displays',\n",
              " '13.7.1.14.2 There shall be no glare from the mounting frame or from the interior of the vehicle that could impair the display ’ s readability',\n",
              " '13.7.1.14.3 It shall be possible to read route related messages and all details of route map from at least one of the displays from any location within the passenger compartment The font and size of the details shall be suitably provided',\n",
              " '13.7.1.14.4 The Electronic route map shall show at-least the following information a Destination station b Current station c Next station d Distance for reaching the next station e Expected time of Arrival for Destination station f Real time clock and date g Door side opening/closure status h Door opening information i Skip station information etc j Current route k Any ambient information like speed temperature humidity etc l Interlinking metro stations with places of importance to be highlighted m Any special announcements from OCC/Train operator n Scrolling of route related announcements',\n",
              " '13.7.1.14.5 Provision shall be available for OCC BCC DCC to broadcast messages on these displays during rescue operation during UTO operation etc',\n",
              " '13.7.1.14.6 Route maps of Different corridors shall be shown in different colors Interchanging stations and important places Malls hospitals Bus station Rail station Airport etc in the route shall be highlighted while showing the routes The addition and deletion of important places at any time shall be possible Contractor Chennai Metro Rail Project Phase – II Bid No ARE03 Part 2 – Section VI ERTS – Communications CMRL Rev B 13-8 December 2020 shall provide necessary tools and software to CMRL for updating the information on route maps independently',\n",
              " '13.7.1.14.7 Route information on the display shall align to the train running direction on both left and right sides of the saloon Station names shall be displayed in English and Tamil languages',\n",
              " '13.7.1.14.8 Not Used',\n",
              " '13.7.1.15 Exterior Displays',\n",
              " '13.7.1.15.1 LCD with LED backlit displays or any latest better technology displays shall be provided at both ends of the train above the windshield to indicate the destination station and route information The message shall be displayed in both English and Tamil simultaneously',\n",
              " '13.7.1.15.2 The brightness of the display shall be adjusted automatically according to the brightness of the sunlight so that passengers shall be able to read information on Exterior display at all times',\n",
              " '13.7.1.15.3 In addition to the destination station name the Train ID details shall be displayed on it Train ID shall be displayed duly getting location and direction information derived from signaling system and also an independent Rolling stock vehicle locator system',\n",
              " '13.7.1.16 Displays for advertisement Purpose',\n",
              " '13.7.1.16.1 6 no ’ s of LCD with LED backlit displays or any latest better technology displays of size not less than',\n",
              " '13 inch x 19 inch shall be provided inside each coach at an appropriate location The display location and specification shall be submitted for CMRL approval',\n",
              " '13.7.1.16.2 These displays shall support for broadcasting advertisements in video and picture formats CMRL promotional videos and route related information',\n",
              " '13.7.1.16.3 By default these display shall show the route related information similar to Electronic route maps Provision shall be made available for CMRL to switch over these displays into commercial mode for broadcasting advertisements from single point in the train',\n",
              " '13.7.1.16.4 Contractor shall provide necessary storage devices for enabling CMRL to upload the video Picture files from a single point in train to broadcast on all the train ’ s displays',\n",
              " '13.7.1.16.5 Necessary interfaces shall be provided for broadcasting advertisements in a logical manner such as broadcasting multiple videos one after other or broadcasting a single video for a specified period broadcasting advertisements at a specific location or station etc Chennai Metro Rail Project Phase – II Bid No ARE03 Part 2 – Section VI ERTS – Communications CMRL Rev B 13-9 December 2020',\n",
              " '13.7.1.16.6 During the Emergency rescue operation these displays must show the necessary instructions for the passenger to operate detrainment door This control shall be done from TCMS OCC DCC',\n",
              " '13.7.1.16.7 Adequate protection shall be ensured to protect the displays from vandalism',\n",
              " '13.7.2 Public Address System',\n",
              " '13.7.2.1 The PA system shall operate with uniform audio quality throughout a train and shall be designed to inhibit audio feedback or echo',\n",
              " '13.7.2.2 The Contractor shall submit for approval an audibility analysis for the PA system including the location of each speaker in the car The minimum acceptable Speech Transmission Index must be better than 0.5 CDRL 13-4',\n",
              " '13.7.2.3 The PA system shall be muted when not in use',\n",
              " '13.7.2.4 The PA system shall enable the train Operator and OCC/BCC operator using the CCH microphone to make announcements from the operating desk to passengers throughout the train and to persons on station platforms using train ’ s exterior speakers',\n",
              " '13.7.2.5 A switch matrix shall be used to select the PA speakers on the inside of the train on the outside of the train independently for left or right side or both inside and outside the train with both sides active during operation and testing purposes',\n",
              " '13.7.2.6 The PA system shall operate without a loss of audio quality on the maximum-length of train',\n",
              " '13.7.2.7 All controls of the PA system shall be located on the CCH',\n",
              " '13.7.2.8 All the announcements being broadcasted using CCH microphone shall be recorded and the recordings shall be available in the train for up-to 7 days',\n",
              " '13.7.2.9 Audio levels of all the announcements in the train shall be automatically adjustable based on both the train speed and dynamic passenger loading in the train Contractor shall provide to CMRL volume control settings at various dB levels which can be selected and followed during train commissioning stage itself suiting to the requirements of passengers',\n",
              " '13.7.2.10 All the passenger emergency intercom communication with OCC train operator DCC Train operator shall be two way and full duplex type The sound of communications shall be free from background noise and shall be free from disturbances Chennai Metro Rail Project Phase – II Bid No ARE03 Part 2 – Section VI ERTS – Communications CMRL Rev B 13-10 December 2020',\n",
              " '13.7.3 Power Amplifier',\n",
              " '13.7.3.1 Power amplifiers shall meet the requirements of EIA-SE-101 or any latest applicable standards',\n",
              " '13.7.3.2 The power amplifiers shall be capable of delivering a minimum of 50 Watts configured as a constant voltage distribution system at not more than 1 percent total harmonic distortion in the range of 100 Hz to 8 kHz',\n",
              " '13.7.3.3 The frequency response shall be within ±1 dB from 100 Hz to 8 kHz with provision for a roll-off of 6 dB per octave below 100 Hz',\n",
              " '13.7.3.4 The signal-to-noise ratio of the amplifier below the compression threshold shall be at least 65 dB',\n",
              " '13.7.3.5 Each amplifier shall be stable with no oscillation present during any normal operation',\n",
              " '13.7.3.6 Amplifier controls shall be equipped with a locking mechanism to prevent inadvertent adjustments and shall be accessible only for maintenance or service',\n",
              " '13.7.3.7 Each power amplifier shall feed 50 of the speakers in the same car and 50 in the adjoining car to ensure that in the event of a single power amplifier failure at least half of the speakers are still operative in the car',\n",
              " '13.7.4 Speaker General Requirements',\n",
              " '13.7.4.1 All interior speakers shall be of transportation grade direct radiating axial-free permanent magnet type and shall comply with EIA-SE-103 or any latest applicable standards',\n",
              " '13.7.4.2 The interior speakers shall have an axial-free field sound pressure level SPL of 95 dB referenced to 2 x 10-11 N/mm² at a distance of 4 ft 1220 mm from the speaker',\n",
              " '13.7.4.3 Off-axis coverage between any two adjacent speakers shall not be greater than 6 dB below the on-axis SPL for uniform sound distribution',\n",
              " '13.7.4.4 The enclosure and the speaker shall be removable from the vehicle as a complete unit',\n",
              " '13.7.5 Interior Speakers and Exterior Speakers',\n",
              " '13.7.5.1 Interior speakers shall be evenly spaced longitudinally in passenger seating areas',\n",
              " '13.7.5.2 Metal covers or plastic enclosures shall protect the interior speakers from dust moisture and vandalism Chennai Metro Rail Project Phase – II Bid No ARE03 Part 2 – Section VI ERTS – Communications CMRL Rev B 13-11 December 2020',\n",
              " '13.7.5.3 The frequency response shall be ±5 dB from 300 Hz to 8kHz with a gradual roll-off of response above 7 kHz',\n",
              " '13.7.5.4 The exterior speakers shall be similar to the interior speakers except that they shall be suitable for outdoor use and have suitable IP 65 protection',\n",
              " '13.7.5.5 Exterior speakers shall be placed such that they shall not be closed behind the permanent panels of station Platform Screen Doors PSD',\n",
              " '13.7.5.6 The connecting cables of the exterior mounted speakers shall be protected using cable glands',\n",
              " '13.8 AUTOMATIC ANNOUNCEMENTS',\n",
              " '13.8.1 Automatic announcements shall include but shall not be limited to station arrival Door opening side current running route route destination station next station stop skip station door opening side connecting station information as well as further secondary special and emergency messages to be determined by CMRL during design stage The announcement control unit shall be an integral part of the CCH or alternatively the Passenger Information System PIS',\n",
              " '13.8.2 Announcements from the OCC Operator/Train operator/BCC operator/DCC operator shall always override automatic announcement',\n",
              " '13.8.3 The announcements shall be broadcasted automatically when the train moves between the stations',\n",
              " '13.8.4 The automatic announcement function shall use locally stored predefined digital messages and shall broadcast these messages to passengers automatically at designated track locations by means of location and direction information derived from signaling system and also an independent Rolling stock vehicle locator system Overriding automatic messages by manual message triggering by the operator shall also be possible',\n",
              " '13.8.5 Provision shall be available for the operator of train/OCC/BCC/DCC to enter the route related information manually into communication system for the purpose of enabling automatic announcements',\n",
              " '13.8.6 The digitally recorded messages shall be broadcast over the PA system Text messages shall be displayed on the passenger information display units',\n",
              " '13.8.7 The audible and text messages shall be synchronized with each other on the displays and speakers to provide audible and visible information compliant with “ The Rights of Persons with Disabilities Act 2016 ”',\n",
              " '13.8.8 A pre-recorded announcement or tone advising passengers while the doors are opening and when doors are closing shall be broadcasted These announcements Chennai Metro Rail Project Phase – II Bid No ARE03 Part 2 – Section VI ERTS – Communications CMRL Rev B 13-12 December 2020 shall be broadcasted by the communications system triggered by signals from the door control system and signaling door information',\n",
              " '13.8.9 It shall be possible for CMRL to record and change the pre-recorded route related messages special messages and add such recordings to all trains Necessary tools and software shall be provided by the contractor to CMRL to perform this function',\n",
              " '13.8.10 The preferred method of message storage is by internal storage which can be updated via the network or by programmable memory cards',\n",
              " '13.8.11 Messages shall be recorded using a professional recording studio or alternative method subject to CMRL ’ s approval',\n",
              " '13.8.12 The Contractor shall provide a detailed description of the message recording and transfer process at the time of PDR The recording and transfer process and methodology shall be subject to CMRL approval',\n",
              " '13.8.13 All the announcements shall be stored in two languages Tamil and English',\n",
              " '13.8.14 During the operation time CMRL may run the trains in multiple combination of routes within the corridors 3 4 5 which may subject to change during the operation stage Hence Contractor shall design the communication system such a way that automatic announcements shall work in trains within any route operated by the CMRL',\n",
              " '13.8.15 Implementation of the automatic route related announcement system of trains shall be functioned by using signaling variables as a main function Rolling Stock contractor shall interface with Signaling contractor for this information The Rolling stock contractor shall also have an independent automatic route related announcement system in trains for redundancy purpose only This redundant system shall be functional in all UTO non-UTO and degraded modes of train operation and shall be designed to have all the functions of the Automatic Passenger announcement system',\n",
              " '13.8.16 Manual Pre-Recorded announcements',\n",
              " '13.8.16.1 There shall be a provision to store pre–recorded voice messages in the communication system by CMRL',\n",
              " '13.8.16.2 These pre-recorded messages shall be broadcasted by the train operator from the driver desk Communications Control Head CCH in all non-UTO modes and degraded modes of operation',\n",
              " '13.8.16.3 RSC consoles in OCC BCC DCC shall have the provision to select pre recorded messages remotely and to broadcast in any train',\n",
              " '13.8.16.4 Addition and deletion of pre-recorded messages shall be possible by CMRL Contractor shall provide necessary software tools to CMRL Chennai Metro Rail Project Phase – II Bid No ARE03 Part 2 – Section VI ERTS – Communications CMRL Rev B 13-13 December 2020',\n",
              " '13.9 OPERATOR ’ S DESK-TO-DESK COMMUNICATIONS',\n",
              " '13.9.1 Communications equipment shall be provided to permit two-way full-duplex voice communications between the active Driver desk and the non-active driver desk in a train',\n",
              " '13.9.2 The Operator shall accomplish desk-to-desk communications by selecting this mode on the CCH and using the microphone',\n",
              " '13.9.3 The sound quality of desk-to-desk communications shall be of the same quality as the PA as detailed in ERTS13.7.2',\n",
              " '13.9.4 The maximum permissible variation in sound levels shall not exceed 5 dB Standard to check',\n",
              " '13.9.5 Desk-to-desk communication shall not be broadcasted in the saloon speakers A dedicated speaker near to the Driver desk shall be installed for this purpose This speaker shall have a provision for volume adjustment',\n",
              " '13.9.6 The desk-to-desk conversation shall be recorded in the train and the recordings shall be available for up-to 7 days in the train',\n",
              " '13.10 PASSENGER EMERGENCY COMMUNICATIONS',\n",
              " '13.10.1 A two-way full-duplex emergency intercom shall be provided to enable passengers to initiate hands-free communications with the train Operator in non-UTO mode and with RSC console of OCC BCC DCCs in UTO mode All the passenger emergency intercom communication with RSC console of OCC BCC DCCs and train operator shall be two way and full duplex type in both UTO mode and non-UTO modes of operation The communications shall be free from background noise and shall be free from disturbances',\n",
              " '13.10.2 When a pushbutton on the passenger emergency intercom is depressed an audible and visible annunciation shall be provided on the Train ’ s CCH and in RSC console of OCC BCC DCCs based on the mode of operation The Contractor shall present for CMRL approval during design review the pushbutton type which should minimize unwarranted activation by passengers The push-buttons for this purpose shall be flushed mounted with the car interiors',\n",
              " '13.10.3 A press-to-reset soft button shall be available at the CCH to permit the Operator to reset any activated passenger intercom PEI Provision in RSC console of OCC BCC DCCs shall also be available to reset any activated PEI in UTO mode of operation',\n",
              " '13.10.4 The press-to-latch button at the passenger intercom station shall illuminate when activated The illumination shall turn off when the intercom is reset Chennai Metro Rail Project Phase – II Bid No ARE03 Part 2 – Section VI ERTS – Communications CMRL Rev B 13-14 December 2020',\n",
              " '13.10.5 Passenger emergency intercoms shall be provided at 50 of the saloon doors in each car i.e 4 no ’ s per car Also the two detrainment doors shall be provided with PEI to facilitate emergency commination with passengers during train detrainment process The PEI locations shall be finalized in consultation with CMRL',\n",
              " '13.10.6 The passenger emergency intercom shall be easily accessible to wheelchair patrons and shall be compliant to “ The Rights of Persons with Disabilities Act 2016 ” and shall have Braille instructions which explain the process of operation of the Passenger Emergency communication device',\n",
              " '13.10.7 The Contractor shall submit for approval information on the design and location of the passenger intercom stations CDRL 13-5',\n",
              " '13.10.8 Not Used',\n",
              " '13.10.9 The conversation between passenger and train Operator OCC operator/BCC operator shall be recorded in the train and shall be downloadable These recordings shall be available for at least 30 days',\n",
              " '13.10.10 Suitable signage shall be provided in both English and Tamil at the PEI location',\n",
              " '13.10.11 The conversation between operator and passenger OCC and Passenger BCC and Passenger shall be recorded in the train for up to 30 days',\n",
              " '13.10.12 While activation of Passenger Emergency Intercom in any car the CCTV ’ s of the car which focuses the specific PEI area shall be automatically selected and displayed in OCC BCC DCC and in TCMS',\n",
              " '13.10.13 Upon activation of PEI there shall be an audio visual alarm in OCC/BCC with the details of train',\n",
              " '13.11 NOT USED',\n",
              " '13.12 NOT USED',\n",
              " '13.13 VIDEO SURVEILLANCE SYSTEM CCTV',\n",
              " '13.13.1 Each car shall be equipped with a video surveillance system to observe passengers and equipment inside and outside the saloons The CCTV system shall consist of video cameras operator monitor screens and digital video storage including the control electronics and associated power supply network The video broadcasting in CCH and video recordings shall be available at a frame rate of 25 fps or more The picture quality shall be minimum level E at 100 Rotakin measured according to EN50132-7',\n",
              " '13.13.2 Each car shall be pre-wired to provide power to the video system from a dedicated circuit breaker Chennai Metro Rail Project Phase – II Bid No ARE03 Part 2 – Section VI ERTS – Communications CMRL Rev B 13-15 December 2020',\n",
              " '13.13.3 Each car shall be provided with conduit to be able to connect each video camera to the central video recorder one in each operator ’ s desk of a train The connection between the cars of a train shall be by jumper conduit with weather-proof quick disconnects at both ends The memory of each central video recorder shall support to store seven full days of video recordings of all the interior exterior cameras of the train After seven days the video recordings shall be overwritten on First in First out FIFO basis Provision shall be available to download video recordings of any camera from a single point in the train Necessary software for downloading video recordings shall be provided to CMRL',\n",
              " '13.13.4 The Contractor shall propose an interior video surveillance system including the appropriate number of cameras to provide adequate coverage of the passengers in the coaches all saloon doors Passenger Emergency Intercoms PEI Emergency Egress Devices Wheel chair area Driver Desk and detrainment door There shall not be any blind spot for video surveillance in the car',\n",
              " '13.13.5 In addition to the cameras provided inside the saloon contractor shall install cameras outside the saloon to monitor the track OHE pantograph and platforms of each station Outside cameras shall be weatherproof and operate in all conditions of passenger service and in commissioning The recordings from these cameras must be clear in dark daytime night-time and in all hours of operation even in case of non-availability of any exterior lighting All the train cameras shall be Infra-red type or latest better type Contractor shall submit CCTV camera locations for both inside and outside the coach for CMRL approval CDRL 13-10',\n",
              " '13.13.6 The cameras shall support for a video resolution of 1920x1080 HD and 25 frames per second minimum illumination of 0.3 lux color iris control minimum 90 dB wide dynamic range WDR and Power Over Ethernet POE compliant Cameras shall be of proven design in railway applications',\n",
              " '13.13.7 The exterior camera view shall be continuously streamed in a separate CCTV monitoring screen in OCC BCC in DCCs of all depots However provision shall be available for the operator to remotely view any train ’ s specific interior/exterior camera ’ s live recording from the corresponding train ’ s CCH from OCC console from DCC console and from any Station Control Room SCR console within one station vicinity of the train on either ends RS contractor shall interface with Signaling Telecommunication contractors for this requirement',\n",
              " '13.13.8 In case of activation of PEI in any of the car by passenger the camera recording focusing the PEI shall be displayed on the CCTV monitoring screen available in OCC BCC DCC and also in TCMS CCH of the specific train',\n",
              " '13.13.9 Similarly critical events like opening of detrainment door Fire smoke inside saloon opening of driver console desk obstacle detection by saloon doors track catenary/infrastructure events shall also be displayed automatically on the CCTV monitoring screen in train as well as in CCTV screens in OCC BCC DCCs Contractor shall propose any further list of critical events for this function to occur Events and logic of automatic popping up of CCTV images of the above events in OCC BCC DCC and CCH screen in operator ’ s desk shall be submitted for CMRL approval Chennai Metro Rail Project Phase – II Bid No ARE03 Part 2 – Section VI ERTS – Communications CMRL Rev B 13-16 December 2020 The contractor shall submit the above said i.e',\n",
              " '13.13.1 to',\n",
              " '13.13.9 for CMRL approval CDRL',\n",
              " '13 6',\n",
              " '13.13.10 Provision shall be available on demand to remotely view live CCTV recordings of any train as per ERTS clause',\n",
              " '13.13.7 Necessary CCTV display required storage devices in OCC BCC DCCs and in SCR for this function shall be provided by the Telecommunications contractor This storage shall be available for at-least 7 continuous days of operation in OCC BCC DCCs After seven days the video recordings shall be overwritten on First in First out FIFO basis Provision shall be available to download video recordings of any train from a single point in the OCC BCC DCCs Necessary software for remote downloading of CCTV video recordings shall be provided to CMRL RS division RS contractor shall interface with the Telecom contractor as per Appendix C requirements',\n",
              " '13.13.11 The Rolling Stock contractor shall provide the suitable means for the transmission of video recordings generated by the On-Board CCTV to OCC DCC and SCR consoles Necessary hardware for transmitting videos to Telecom network shall be provided and installed by Rolling stock contractor inside the train',\n",
              " '13.13.12 Detailed dimensional weight and power requirement information for CMRL approval shall be submitted at the time of Preliminary Design Review',\n",
              " '13.13.13 The Contractor shall provide suitable space mounting provisions wiring and separate circuit protection for the communication equipment including power supplies The power supplies shall be fed from the low voltage power supply and emergency storage battery circuit Contractor shall use best practices for equipment wiring and network wiring as per the relevant international standards',\n",
              " '13.13.14 The Contractor shall provide and install cables from the communication equipment to the corresponding antennae using removable connectors at each end of the cable The cable impedance shall match the output impedance of the equipment The contractor shall submit the above said i.e',\n",
              " '13.13.10 to',\n",
              " '13.13.14 for CMRL approval CDRL',\n",
              " '13 7',\n",
              " '13.13.15 The Contractor shall design the installation of antennae as weatherproof and capable of resisting the carwash Sealant shall not be permitted',\n",
              " '13.13.16 It shall be possible to remotely download the train CCTV footages from OCC BCC from DCCs even when the train is in operation',\n",
              " '13.14 UTO',\n",
              " '13.14.1 The design of Communications system and its relevant components in train shall support for the Unattended Train Operation UTO in Grade of Automation-4 GoA4 in the CMRL Phase 2 corridors defined in ERTS Section 1 Trains shall be operated in GoA4 UTO mode from the initial stage of commissioning and revenue operations Hence all the feed-backs information and train controls which are available on TCMS screen shall also be available in OCC operational control Centre and DCC Depot Chennai Metro Rail Project Phase – II Bid No ARE03 Part 2 – Section VI ERTS – Communications CMRL Rev B 13-17 December 2020 Control Centre for smooth operation of passenger service The Contractor shall submit the details of controls to be provided in OCC DCC for review and approval of CMRL CDRL 13-8',\n",
              " '13.15 DELIVERABLES',\n",
              " '13.15.1 Documents Contract deliverables required by this section of the Technical Provisions are summarized below CDRL 13-1 Data sheets/specification sheets for all communications system components ref TS13.2.6 CDRL 13-2 communication system functional descriptions display layout of functions in CCH console control scheme and block diagrams of the CCH and associated communications components ref TS13.4.6 CDRL 13-3 Design specifications and location of interior and exterior PIS displays ref TS13.7.1.13 CDRL 13-4 The Contractor shall submit for approval an audibility analysis for the PA system including the location of each speaker in the car TS',\n",
              " '13.7.2.2 CDRL 13-5 The Contractor shall submit for approval information on the design and location of the passenger intercom stations at PDR TS',\n",
              " '13.10.7 CDRL 13-6 The contractor shall submit for CMRL approval data as per clauses',\n",
              " '13.13.1 to',\n",
              " '13.13.9 CDRL 13-7 The contractor shall submit for CMRL approval data as per clauses',\n",
              " '13.13.10 to',\n",
              " '13.13.14 CDRL 13-8 The Contractor shall submit the communication system controls to be provided in OCC for CMRL approval ERTS clause',\n",
              " '13.14 CDRL 13-9 The contractor shall submit all tools for troubleshooting and maintenance of communication system for approval of CMRL ERTS clause',\n",
              " '13.15.2 CDRL 13-10 Contractor shall submit CCTV camera locations inside and outside the coach for CMRL approval ERTS',\n",
              " '13.13.5 CDRL',\n",
              " '13 11 The Contractor shall submit for approval during design review detailed information on radio equipment interfaces mounting and wiring ERTS Clause',\n",
              " '13.5.7']"
            ]
          },
          "metadata": {
            "tags": []
          },
          "execution_count": 182
        }
      ]
    },
    {
      "cell_type": "code",
      "metadata": {
        "colab": {
          "base_uri": "https://localhost:8080/",
          "height": 35
        },
        "id": "wO5jRdZNpZQq",
        "outputId": "6ca2eeb1-47c1-4870-d610-de6ecd7dde57"
      },
      "source": [
        "sentence3 = []\n",
        "sentence2[9].split()[0]\n",
        "#sentence2[9].replace((sentence2[9].split()[0])+\" \",'')"
      ],
      "execution_count": null,
      "outputs": [
        {
          "output_type": "execute_result",
          "data": {
            "application/vnd.google.colaboratory.intrinsic+json": {
              "type": "string"
            },
            "text/plain": [
              "'13.2.7'"
            ]
          },
          "metadata": {
            "tags": []
          },
          "execution_count": 183
        }
      ]
    },
    {
      "cell_type": "code",
      "metadata": {
        "id": "LvgnDEowyAWl"
      },
      "source": [
        "for i in range(len(sentence2)):\n",
        "  dfCBC.loc[i] = [sentence2[i].split()[0]] + [np.nan] + [sentence2[i].replace((sentence2[i].split()[0])+\" \",'')]"
      ],
      "execution_count": null,
      "outputs": []
    },
    {
      "cell_type": "code",
      "metadata": {
        "id": "wbOGV4Bt0CEB"
      },
      "source": [
        "dfCBC.to_excel('CBC.xlsx')"
      ],
      "execution_count": null,
      "outputs": []
    },
    {
      "cell_type": "code",
      "metadata": {
        "colab": {
          "base_uri": "https://localhost:8080/",
          "height": 88
        },
        "id": "OjYCulfm5LEx",
        "outputId": "12f7680b-7671-4efa-85fb-cf63a9bcd7e4"
      },
      "source": [
        "'''def manually_label(pickle_file):\n",
        "    print('Is this requirement related to brakes? Type 1 if yes. \\n')\n",
        "    df = pd.read_pickle(pickle_file)\n",
        "    for index, row in df.iterrows():\n",
        "        if pd.isnull(row.label):\n",
        "            print(row.sentence)\n",
        "            label = input()\n",
        "            if label == '1':\n",
        "                df.loc[index, 'label'] = 1\n",
        "            if label == '':\n",
        "                df.loc[index, 'label'] = 0\n",
        "            clear_output()\n",
        "            df.to_pickle('brakes.pickle')\n",
        "            \n",
        "    print('No more labels to classify!')\n",
        "\n",
        "manually_label('brakes.pickle')'''"
      ],
      "execution_count": null,
      "outputs": [
        {
          "output_type": "execute_result",
          "data": {
            "application/vnd.google.colaboratory.intrinsic+json": {
              "type": "string"
            },
            "text/plain": [
              "\"def manually_label(pickle_file):\\n    print('Is this requirement related to brakes? Type 1 if yes. \\n')\\n    df = pd.read_pickle(pickle_file)\\n    for index, row in df.iterrows():\\n        if pd.isnull(row.label):\\n            print(row.sentence)\\n            label = input()\\n            if label == '1':\\n                df.loc[index, 'label'] = 1\\n            if label == '':\\n                df.loc[index, 'label'] = 0\\n            clear_output()\\n            df.to_pickle('brakes.pickle')\\n            \\n    print('No more labels to classify!')\\n\\nmanually_label('brakes.pickle')\""
            ]
          },
          "metadata": {
            "tags": []
          },
          "execution_count": 161
        }
      ]
    },
    {
      "cell_type": "code",
      "metadata": {
        "id": "MVPgA1j65aDt"
      },
      "source": [
        "df.to_excel('extarcted text.xlsx')"
      ],
      "execution_count": null,
      "outputs": []
    },
    {
      "cell_type": "code",
      "metadata": {
        "id": "71HNoeP27UBz"
      },
      "source": [
        ""
      ],
      "execution_count": null,
      "outputs": []
    }
  ]
}